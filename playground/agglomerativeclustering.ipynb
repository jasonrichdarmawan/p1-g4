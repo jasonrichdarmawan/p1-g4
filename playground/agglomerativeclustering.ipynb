{
 "cells": [
  {
   "cell_type": "code",
   "execution_count": 2,
   "metadata": {},
   "outputs": [],
   "source": [
    "from sklearn.cluster import AgglomerativeClustering\n",
    "import numpy as np\n",
    "import pandas as pd\n",
    "import seaborn as sns"
   ]
  },
  {
   "cell_type": "code",
   "execution_count": 5,
   "metadata": {},
   "outputs": [
    {
     "data": {
      "text/html": [
       "<style type=\"text/css\">\n",
       "#T_d27cf_row0_col0, #T_d27cf_row1_col0, #T_d27cf_row2_col0, #T_d27cf_row2_col1, #T_d27cf_row3_col2, #T_d27cf_row4_col2, #T_d27cf_row5_col1, #T_d27cf_row5_col2 {\n",
       "  background-color: #3b4cc0;\n",
       "  color: #f1f1f1;\n",
       "}\n",
       "#T_d27cf_row0_col1, #T_d27cf_row3_col1 {\n",
       "  background-color: #dddcdc;\n",
       "  color: #000000;\n",
       "}\n",
       "#T_d27cf_row0_col2, #T_d27cf_row1_col1, #T_d27cf_row1_col2, #T_d27cf_row2_col2, #T_d27cf_row3_col0, #T_d27cf_row4_col0, #T_d27cf_row4_col1, #T_d27cf_row5_col0 {\n",
       "  background-color: #b40426;\n",
       "  color: #f1f1f1;\n",
       "}\n",
       "</style>\n",
       "<table id=\"T_d27cf\">\n",
       "  <thead>\n",
       "    <tr>\n",
       "      <th class=\"blank level0\" >&nbsp;</th>\n",
       "      <th id=\"T_d27cf_level0_col0\" class=\"col_heading level0 col0\" >Gene 1</th>\n",
       "      <th id=\"T_d27cf_level0_col1\" class=\"col_heading level0 col1\" >Gene 2</th>\n",
       "      <th id=\"T_d27cf_level0_col2\" class=\"col_heading level0 col2\" >Label</th>\n",
       "    </tr>\n",
       "  </thead>\n",
       "  <tbody>\n",
       "    <tr>\n",
       "      <th id=\"T_d27cf_level0_row0\" class=\"row_heading level0 row0\" >0</th>\n",
       "      <td id=\"T_d27cf_row0_col0\" class=\"data row0 col0\" >1</td>\n",
       "      <td id=\"T_d27cf_row0_col1\" class=\"data row0 col1\" >2</td>\n",
       "      <td id=\"T_d27cf_row0_col2\" class=\"data row0 col2\" >1</td>\n",
       "    </tr>\n",
       "    <tr>\n",
       "      <th id=\"T_d27cf_level0_row1\" class=\"row_heading level0 row1\" >1</th>\n",
       "      <td id=\"T_d27cf_row1_col0\" class=\"data row1 col0\" >1</td>\n",
       "      <td id=\"T_d27cf_row1_col1\" class=\"data row1 col1\" >4</td>\n",
       "      <td id=\"T_d27cf_row1_col2\" class=\"data row1 col2\" >1</td>\n",
       "    </tr>\n",
       "    <tr>\n",
       "      <th id=\"T_d27cf_level0_row2\" class=\"row_heading level0 row2\" >2</th>\n",
       "      <td id=\"T_d27cf_row2_col0\" class=\"data row2 col0\" >1</td>\n",
       "      <td id=\"T_d27cf_row2_col1\" class=\"data row2 col1\" >0</td>\n",
       "      <td id=\"T_d27cf_row2_col2\" class=\"data row2 col2\" >1</td>\n",
       "    </tr>\n",
       "    <tr>\n",
       "      <th id=\"T_d27cf_level0_row3\" class=\"row_heading level0 row3\" >3</th>\n",
       "      <td id=\"T_d27cf_row3_col0\" class=\"data row3 col0\" >4</td>\n",
       "      <td id=\"T_d27cf_row3_col1\" class=\"data row3 col1\" >2</td>\n",
       "      <td id=\"T_d27cf_row3_col2\" class=\"data row3 col2\" >0</td>\n",
       "    </tr>\n",
       "    <tr>\n",
       "      <th id=\"T_d27cf_level0_row4\" class=\"row_heading level0 row4\" >4</th>\n",
       "      <td id=\"T_d27cf_row4_col0\" class=\"data row4 col0\" >4</td>\n",
       "      <td id=\"T_d27cf_row4_col1\" class=\"data row4 col1\" >4</td>\n",
       "      <td id=\"T_d27cf_row4_col2\" class=\"data row4 col2\" >0</td>\n",
       "    </tr>\n",
       "    <tr>\n",
       "      <th id=\"T_d27cf_level0_row5\" class=\"row_heading level0 row5\" >5</th>\n",
       "      <td id=\"T_d27cf_row5_col0\" class=\"data row5 col0\" >4</td>\n",
       "      <td id=\"T_d27cf_row5_col1\" class=\"data row5 col1\" >0</td>\n",
       "      <td id=\"T_d27cf_row5_col2\" class=\"data row5 col2\" >0</td>\n",
       "    </tr>\n",
       "  </tbody>\n",
       "</table>\n"
      ],
      "text/plain": [
       "<pandas.io.formats.style.Styler at 0x1106043d0>"
      ]
     },
     "metadata": {},
     "output_type": "display_data"
    },
    {
     "data": {
      "text/plain": [
       "<AxesSubplot: xlabel='Gene 1', ylabel='Gene 2'>"
      ]
     },
     "execution_count": 5,
     "metadata": {},
     "output_type": "execute_result"
    },
    {
     "data": {
      "image/png": "[encoded data removed]",
      "text/plain": [
       "<Figure size 640x480 with 1 Axes>"
      ]
     },
     "metadata": {},
     "output_type": "display_data"
    }
   ],
   "source": [
    "X_train = np.array([[1, 2], \n",
    "                    [1, 4], \n",
    "                    [1, 0],\n",
    "                    [4, 2], \n",
    "                    [4, 4], \n",
    "                    [4, 0]])\n",
    "df = pd.DataFrame(data=X_train, columns=[\"Gene 1\", \"Gene 2\"])\n",
    "\n",
    "# Agglomerative CLustering or Hierarchical Clustering does this\n",
    "# it uses euclidean to calculates the similarity between Gene 1 and 2.\n",
    "# gene 1 similarity with gene 2 = np.sqrt( (diff in sample #0)**2 + ... + (diff in sample #n)**2 )\n",
    "# diff in sample #1 = gene 1 of sample 0 - gene 2 of sample 0\n",
    "# then compare it with gene 1 similarity with gene 3\n",
    "clustering = AgglomerativeClustering(affinity=\"euclidean\", linkage=\"ward\").fit(X_train)\n",
    "clustering\n",
    "\n",
    "df[\"Label\"] = clustering.labels_\n",
    "\n",
    "display(df.style.background_gradient(cmap=\"coolwarm\"))\n",
    "\n",
    "sns.scatterplot(data=df, x=\"Gene 1\", y=\"Gene 2\", hue=\"Label\")"
   ]
  }
 ],
 "metadata": {
  "kernelspec": {
   "display_name": "Python 3.10.8 64-bit",
   "language": "python",
   "name": "python3"
  },
  "language_info": {
   "codemirror_mode": {
    "name": "ipython",
    "version": 3
   },
   "file_extension": ".py",
   "mimetype": "text/x-python",
   "name": "python",
   "nbconvert_exporter": "python",
   "pygments_lexer": "ipython3",
   "version": "3.10.8"
  },
  "orig_nbformat": 4,
  "vscode": {
   "interpreter": {
    "hash": "aee8b7b246df8f9039afb4144a1f6fd8d2ca17a180786b69acc140d282b71a49"
   }
  }
 },
 "nbformat": 4,
 "nbformat_minor": 2
}
