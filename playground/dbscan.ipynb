{
 "cells": [
  {
   "cell_type": "code",
   "execution_count": 23,
   "metadata": {},
   "outputs": [
    {
     "name": "stdout",
     "output_type": "stream",
     "text": [
      "dbscan [ 0  0  0  1  1 -1]\n"
     ]
    },
    {
     "data": {
      "text/plain": [
       "<AxesSubplot: >"
      ]
     },
     "execution_count": 23,
     "metadata": {},
     "output_type": "execute_result"
    },
    {
     "data": {
      "image/png": "[encoded data removed]",
      "text/plain": [
       "<Figure size 640x480 with 2 Axes>"
      ]
     },
     "metadata": {},
     "output_type": "display_data"
    }
   ],
   "source": [
    "from sklearn.cluster import DBSCAN, KMeans\n",
    "import numpy as np\n",
    "import matplotlib.pyplot as plt\n",
    "import seaborn as sns\n",
    "\n",
    "X_train = np.array([[1, 2], \n",
    "                    [2, 2], \n",
    "                    [2, 3],\n",
    "                    [8, 7], \n",
    "                    [8, 8], \n",
    "                    [25, 80]]) # outlier\n",
    "              \n",
    "clustering = DBSCAN(\n",
    "                    # distance of the core point to merge \n",
    "                    # with other core point / non core point\n",
    "                    eps=3, \n",
    "                    # minimum samples required to be considered as core point\n",
    "                    min_samples=2).fit(X=X_train)\n",
    "print(\"dbscan\", clustering.labels_)\n",
    "\n",
    "kmeans = KMeans(n_clusters=3, random_state=17).fit(X=X_train)\n",
    "\n",
    "fig, axes = plt.subplots(1,2)\n",
    "\n",
    "sns.scatterplot(x=X_train[:,0], y=X_train[:,1], hue=clustering.labels_, ax=axes[0])\n",
    "sns.scatterplot(x=X_train[:,0], y=X_train[:,1], hue=kmeans.labels_, ax=axes[1])\n"
   ]
  },
  {
   "cell_type": "code",
   "execution_count": null,
   "metadata": {},
   "outputs": [],
   "source": [
    "fig, axes = plt.subplots(1,2)\n",
    "\n",
    "sns.scatterplot(x=X_train[:,0], y=X_train[:,1], hue=clustering.labels_, ax=axes[0])\n",
    "sns.scatterplot(x=X_train[:,0], y=X_train[:,1], hue=kmeans.labels_, ax=axes[1])"
   ]
  }
 ],
 "metadata": {
  "kernelspec": {
   "display_name": "Python 3.10.8 64-bit",
   "language": "python",
   "name": "python3"
  },
  "language_info": {
   "codemirror_mode": {
    "name": "ipython",
    "version": 3
   },
   "file_extension": ".py",
   "mimetype": "text/x-python",
   "name": "python",
   "nbconvert_exporter": "python",
   "pygments_lexer": "ipython3",
   "version": "3.10.8"
  },
  "orig_nbformat": 4,
  "vscode": {
   "interpreter": {
    "hash": "aee8b7b246df8f9039afb4144a1f6fd8d2ca17a180786b69acc140d282b71a49"
   }
  }
 },
 "nbformat": 4,
 "nbformat_minor": 2
}
